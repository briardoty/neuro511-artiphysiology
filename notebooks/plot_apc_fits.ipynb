{
 "cells": [
  {
   "cell_type": "code",
   "execution_count": 83,
   "metadata": {},
   "outputs": [],
   "source": [
    "# goal: reproduce figure 5 from dean's artiphysiology paper\n",
    "import numpy as np\n",
    "import torch\n",
    "import matplotlib.pyplot as plt\n",
    "import xarray as xr\n",
    "\n",
    "# params\n",
    "layer_name = \"conv10\""
   ]
  },
  {
   "cell_type": "code",
   "execution_count": 85,
   "metadata": {},
   "outputs": [],
   "source": [
    "# import apc fits\n",
    "apc_fits = np.load(f\"./../data/apc_fit/vgg16_{layer_name}_apc_fits2.npy\",\n",
    "                  allow_pickle=True)\n",
    "\n",
    "# import apc models\n",
    "apc_models = xr.open_dataset(\"./../data/apc_fit/apc_models_362_16x16.nc\")\n",
    "\n",
    "# import actual responses\n",
    "outputs_tt = torch.load(f\"./../data/net_responses/vgg16_{layer_name}_output.pt\")"
   ]
  },
  {
   "cell_type": "code",
   "execution_count": 86,
   "metadata": {},
   "outputs": [
    {
     "data": {
      "text/plain": [
       "array([[ 0.00000000e+00,  3.79880000e+04,  2.26506626e-01],\n",
       "       [ 1.00000000e+00, -1.00000000e+00,            -inf],\n",
       "       [ 2.00000000e+00,  2.24000000e+03,  2.83940516e-01],\n",
       "       [ 3.00000000e+00,  2.68800000e+03,  4.01307258e-01]])"
      ]
     },
     "execution_count": 86,
     "metadata": {},
     "output_type": "execute_result"
    }
   ],
   "source": [
    "apc_fits"
   ]
  },
  {
   "cell_type": "code",
   "execution_count": 96,
   "metadata": {},
   "outputs": [
    {
     "data": {
      "image/png": "[encoded data removed]",
      "text/plain": [
       "<Figure size 360x360 with 1 Axes>"
      ]
     },
     "metadata": {
      "needs_background": "light"
     },
     "output_type": "display_data"
    }
   ],
   "source": [
    "# apc_fits = [(unit, best_model_idx, best_corr)]\n",
    "def plot_apc_fits_for_unit(unit, apc_fits, apc_models, outputs_tt):\n",
    "    \n",
    "    # get x data (actual unit responses across stim)\n",
    "    spatial_idx = int((len(outputs_tt[0, 0, 0]) - 1) / 2)\n",
    "    unit_responses = outputs_tt[:, 0, unit, spatial_idx, spatial_idx]\n",
    "    unit_responses = unit_responses.detach()\n",
    "    \n",
    "    # get y data (predicted responses from unit's best fit model)\n",
    "    (_, i_model, best_corr) = apc_fits[unit]\n",
    "    model_responses = apc_models.resp[:, int(i_model)]\n",
    "    \n",
    "    # plot 'em\n",
    "    fig, axes = plt.subplots(1, figsize=(5, 5))\n",
    "    axes.set_xlabel(\"Unit response\")\n",
    "    axes.set_ylabel(\"Model prediction\")\n",
    "    \n",
    "    axes.plot(unit_responses, model_responses, \"k.\")\n",
    "\n",
    "plot_apc_fits_for_unit(3, apc_fits, apc_models, outputs_tt)"
   ]
  },
  {
   "cell_type": "code",
   "execution_count": null,
   "metadata": {},
   "outputs": [],
   "source": [
    "def plot_motif_dynamics(w_mon, synapses, N, use_p0=True, save_fig=False):\n",
    "    \"\"\"\n",
    "    Plot motif dynamics a la figure 7 from Ocker et al 2015\n",
    "    Args:\n",
    "        w_mon (StateMonitor): Brian2 synaptic weight monitor\n",
    "        synapses (Synapses): Brian2 synapses in network\n",
    "        N (int): number of neurons\n",
    "        save_fig (bool): optional flag to output figure image\n",
    "    \"\"\"\n",
    "    motif_names = [\"p\", \"q_div\", \"q_con\", \"q_ch\", \"q_rec\"]\n",
    "    motif_stats_mat = get_motif_stats_in_time(w_mon, synapses, N, use_p0=use_p0)\n",
    "\n",
    "    fig, axes = plt.subplots(5, figsize=(5, 10))\n",
    "\n",
    "    plt.xlabel(\"Time (s)\")\n",
    "    fig.suptitle(\"Motif dynamics: N=\" + str(N))\n",
    "    for i in range(5):\n",
    "        ax = axes[i]\n",
    "        ax.plot(w_mon.t, motif_stats_mat[:, i])\n",
    "        ax.set_ylabel(motif_names[i])\n",
    "\n",
    "    if not save_fig:\n",
    "        return\n",
    "\n",
    "    now = str(time.time())\n",
    "    name = \"results/motifs_N=\" + str(N) + \"_t=\" + str(w_mon.t[-1]) + \"_\" + now + \".png\"\n",
    "    plt.savefig(name, dpi=300, bbox_inches='tight')"
   ]
  }
 ],
 "metadata": {
  "kernelspec": {
   "display_name": "Python 3",
   "language": "python",
   "name": "python3"
  },
  "language_info": {
   "codemirror_mode": {
    "name": "ipython",
    "version": 3
   },
   "file_extension": ".py",
   "mimetype": "text/x-python",
   "name": "python",
   "nbconvert_exporter": "python",
   "pygments_lexer": "ipython3",
   "version": "3.7.6"
  }
 },
 "nbformat": 4,
 "nbformat_minor": 4
}
