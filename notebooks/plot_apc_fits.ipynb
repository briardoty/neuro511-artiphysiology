{
 "cells": [
  {
   "cell_type": "code",
   "execution_count": 55,
   "metadata": {},
   "outputs": [],
   "source": [
    "# goal: reproduce figure 5 from dean's artiphysiology paper\n",
    "import numpy as np\n",
    "import torch\n",
    "import matplotlib.pyplot as plt\n",
    "\n",
    "# params\n",
    "layer_name = \"conv9\""
   ]
  },
  {
   "cell_type": "code",
   "execution_count": 56,
   "metadata": {},
   "outputs": [],
   "source": [
    "# import apc fit\n",
    "apc_fits = np.load(f\"./../data/apc_fit/vgg16_{layer_name}_apc_fits.npz\",\n",
    "                  allow_pickle=True)\n",
    "apc_fits = apc_fits[\"arr_0\"]\n",
    "\n",
    "# import actual responses\n",
    "outputs_tt = torch.load(f\"./../data/net_responses/vgg16_{layer_name}_output.pt\")"
   ]
  },
  {
   "cell_type": "code",
   "execution_count": 62,
   "metadata": {},
   "outputs": [
    {
     "data": {
      "text/plain": [
       "array([[<xarray.DataArray 'models' ()>\n",
       "array(37988)\n",
       "Coordinates:\n",
       "    or_mean   float64 1.571\n",
       "    cur_sd    float64 0.1701\n",
       "    or_sd     float64 1.338\n",
       "    cur_mean  float64 0.1,\n",
       "        0.2265066261102688],\n",
       "       [None, -inf],\n",
       "       [<xarray.DataArray 'models' ()>\n",
       "array(2240)\n",
       "Coordinates:\n",
       "    or_mean   float64 3.142\n",
       "    cur_sd    float64 0.09\n",
       "    or_sd     float64 0.4014\n",
       "    cur_mean  float64 0.7,\n",
       "        0.2839405164788886],\n",
       "       ...,\n",
       "       [<xarray.DataArray 'models' ()>\n",
       "array(1226)\n",
       "Coordinates:\n",
       "    or_mean   float64 1.571\n",
       "    cur_sd    float64 0.4421\n",
       "    or_sd     float64 0.4014\n",
       "    cur_mean  float64 0.7,\n",
       "        0.48097961339578893],\n",
       "       [<xarray.DataArray 'models' ()>\n",
       "array(2278)\n",
       "Coordinates:\n",
       "    or_mean   float64 3.142\n",
       "    cur_sd    float64 0.2339\n",
       "    or_sd     float64 0.4014\n",
       "    cur_mean  float64 0.9,\n",
       "        0.32754527504035846],\n",
       "       [<xarray.DataArray 'models' ()>\n",
       "array(3936)\n",
       "Coordinates:\n",
       "    or_mean   float64 5.89\n",
       "    cur_sd    float64 0.09\n",
       "    or_sd     float64 0.4014\n",
       "    cur_mean  float64 0.1,\n",
       "        0.2492483298421072]], dtype=object)"
      ]
     },
     "execution_count": 62,
     "metadata": {},
     "output_type": "execute_result"
    }
   ],
   "source": [
    "apc_fits"
   ]
  }
 ],
 "metadata": {
  "kernelspec": {
   "display_name": "Python 3",
   "language": "python",
   "name": "python3"
  },
  "language_info": {
   "codemirror_mode": {
    "name": "ipython",
    "version": 3
   },
   "file_extension": ".py",
   "mimetype": "text/x-python",
   "name": "python",
   "nbconvert_exporter": "python",
   "pygments_lexer": "ipython3",
   "version": "3.7.6"
  }
 },
 "nbformat": 4,
 "nbformat_minor": 4
}
